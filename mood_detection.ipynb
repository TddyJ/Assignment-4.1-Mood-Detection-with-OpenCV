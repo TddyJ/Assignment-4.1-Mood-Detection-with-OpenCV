{
 "cells": [
  {
   "cell_type": "code",
   "execution_count": 34,
   "metadata": {},
   "outputs": [],
   "source": [
    "import numpy as np\n",
    "import os\n",
    "import errno\n",
    "import sys\n",
    "import cv2"
   ]
  },
  {
   "cell_type": "code",
   "execution_count": 35,
   "metadata": {},
   "outputs": [],
   "source": [
    "def read_images(path, sz=None):\n",
    "  c = 0\n",
    "  X, y = [], []\n",
    "  for dirname, dirnames, filenames in os.walk(path):\n",
    "    for subdirname in dirnames:\n",
    "      subject_path = os.path.join(dirname, subdirname)\n",
    "      for filename in os.listdir(subject_path):\n",
    "        try:\n",
    "          if(filename == \".directory\"):\n",
    "            continue\n",
    "          filepath = os.path.join(subject_path, filename)\n",
    "          im = cv2.imread(os.path.join(subject_path, filename), cv2.IMREAD_GRAYSCALE)\n",
    "          \n",
    "          if (sz is not None): \n",
    "            im = cv2.resize(im, sz)\n",
    "            \n",
    "          X.append(np.asarray(im, dtype=np.uint8))\n",
    "          y.append(c)\n",
    "        except IOError as e:\n",
    "          print(f\"I/O Error({e.errno}): {e.strerror}\")\n",
    "        except:\n",
    "          print(\"Unexpected error:\", sys.exc_info()[0])\n",
    "          raise\n",
    "      c = c+1\n",
    "      \n",
    "  return [X, y]"
   ]
  },
  {
   "cell_type": "code",
   "execution_count": 36,
   "metadata": {},
   "outputs": [],
   "source": [
    "def face_rec():\n",
    "    moods = ['happy', 'sad', 'angry', 'confused'] \n",
    "    unknown_label = 'unknown'\n",
    "    if len(sys.argv) < 2:\n",
    "        print(\"USAGE: facerec_demo.py </path/to/images> [</path/to/store/images/at>]\")\n",
    "        sys.exit()\n",
    "\n",
    "    \n",
    "    [X, y] = read_images(R'C:\\Users\\jroqu\\Downloads\\Mood Detection with OpenCV\\moods', (200, 200))\n",
    "    y = np.asarray(y, dtype=np.int32)\n",
    "\n",
    "    model = cv2.face.LBPHFaceRecognizer_create()\n",
    "    model.train(X, y)\n",
    "\n",
    "    camera = cv2.VideoCapture(0)\n",
    "    face_cascade = cv2.CascadeClassifier(cv2.data.haarcascades + 'haarcascade_frontalface_default.xml')\n",
    "\n",
    "    while True:\n",
    "        ret, img = camera.read()\n",
    "        if not ret:\n",
    "            break\n",
    "\n",
    "        faces = face_cascade.detectMultiScale(img, 1.3, 5)\n",
    "\n",
    "        for (x, y, w, h) in faces:\n",
    "            cv2.rectangle(img, (x, y), (x + w, y + h), (0, 255, 0), 2)\n",
    "            gray = cv2.cvtColor(img[y:y + h, x:x + w], cv2.COLOR_BGR2GRAY)\n",
    "            roi = cv2.resize(gray, (200, 200), interpolation=cv2.INTER_LINEAR)\n",
    "\n",
    "            try:\n",
    "                params = model.predict(roi)\n",
    "                label_mood = moods[params[0]]\n",
    "\n",
    "                if params[1] < 200:  \n",
    "                    label = \"You\"\n",
    "                else:\n",
    "                    label = unknown_label \n",
    "                cv2.putText(img, label + ', ' + 'Mood: ' + label_mood + ', ' + str(params[1]), (x, y - 20), \n",
    "                            cv2.FONT_HERSHEY_SIMPLEX, 1, (255, 0, 0), 2)\n",
    "            except:\n",
    "                continue\n",
    "\n",
    "        cv2.imshow(\"camera\", img)\n",
    "        if cv2.waitKey(1) & 0xFF == ord(\"q\"):\n",
    "            break\n",
    "\n",
    "    camera.release()\n",
    "    cv2.destroyAllWindows()"
   ]
  },
  {
   "cell_type": "code",
   "execution_count": 37,
   "metadata": {},
   "outputs": [],
   "source": [
    "if __name__ == \"__main__\":\n",
    "    face_rec()"
   ]
  }
 ],
 "metadata": {
  "kernelspec": {
   "display_name": "Python 3",
   "language": "python",
   "name": "python3"
  },
  "language_info": {
   "codemirror_mode": {
    "name": "ipython",
    "version": 3
   },
   "file_extension": ".py",
   "mimetype": "text/x-python",
   "name": "python",
   "nbconvert_exporter": "python",
   "pygments_lexer": "ipython3",
   "version": "3.11.8"
  }
 },
 "nbformat": 4,
 "nbformat_minor": 2
}
